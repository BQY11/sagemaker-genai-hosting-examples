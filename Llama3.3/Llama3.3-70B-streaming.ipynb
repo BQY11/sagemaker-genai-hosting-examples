{
 "cells": [
  {
   "cell_type": "markdown",
   "id": "833fcff3-1784-4832-8bda-fd5098b9e2f4",
   "metadata": {},
   "source": [
    "# Deploy a LLaMA 3.3 70B Instruct Model Using SageMaker Endpoints with P4d.24xlarge instance"
   ]
  },
  {
   "cell_type": "markdown",
   "id": "898a5386-536a-4977-9ffc-988519db65d3",
   "metadata": {},
   "source": [
    "In this example you will deploy `Llama-3.3-70B-Instruct` SageMaker Managed Endpoint."
   ]
  },
  {
   "cell_type": "code",
   "execution_count": 1,
   "id": "27d947f0-3dca-4d2f-bbff-22db6df5ec98",
   "metadata": {},
   "outputs": [],
   "source": [
    "!pip install -Uq sagemaker"
   ]
  },
  {
   "cell_type": "code",
   "execution_count": 2,
   "id": "ba6fa40c-0c43-4b01-a653-f07a5df0a322",
   "metadata": {},
   "outputs": [],
   "source": [
    "!pip install -Uq transformers"
   ]
  },
  {
   "cell_type": "code",
   "execution_count": 5,
   "id": "f58c9500-7cbd-4481-891a-4b86c8aff5cd",
   "metadata": {},
   "outputs": [],
   "source": [
    "import json\n",
    "import sagemaker\n",
    "import boto3\n",
    "from sagemaker.huggingface import HuggingFaceModel, get_huggingface_llm_image_uri\n",
    "\n",
    "try:\n",
    "\trole = sagemaker.get_execution_role()\n",
    "except ValueError:\n",
    "\tiam = boto3.client('iam')\n",
    "\trole = iam.get_role(RoleName='sagemaker_execution_role')['Role']['Arn']"
   ]
  },
  {
   "cell_type": "code",
   "execution_count": null,
   "id": "08993a82-0d4e-4f73-ac51-eb96301d960a",
   "metadata": {
    "scrolled": true
   },
   "outputs": [],
   "source": [
    "# assert hub['HUGGING_FACE_HUB_TOKEN'] != '<REPLACE WITH YOUR TOKEN>', \"You have to provide a token.\"\n",
    "\n",
    "# Hub Model configuration. https://huggingface.co/models\n",
    "hub = {\n",
    "\t'HF_MODEL_ID':'meta-llama/Llama-3.3-70B-Instruct',\n",
    "\t'SM_NUM_GPUS': '8',\n",
    "    # 'HUGGING_FACE_HUB_TOKEN': '<REPLACE WITH YOUR TOKEN>'\n",
    "\t'HUGGING_FACE_HUB_TOKEN': 'hf_'\n",
    "}\n",
    "\n",
    "# create Hugging Face Model Class\n",
    "huggingface_model = HuggingFaceModel(\n",
    "\timage_uri=get_huggingface_llm_image_uri(\"huggingface\",version=\"2.3.1\"), \n",
    "\tenv=hub,\n",
    "\trole=role, \n",
    ")\n",
    "\n",
    "# deploy model to SageMaker Inference\n",
    "predictor = huggingface_model.deploy(\n",
    "\tinitial_instance_count=1,\n",
    "    instance_type=\"ml.p4d.24xlarge\",\n",
    "\tcontainer_startup_health_check_timeout=1200,\n",
    "  )"
   ]
  },
  {
   "cell_type": "code",
   "execution_count": 23,
   "id": "2ebf6eb1-410b-402f-8d6d-7d890d584117",
   "metadata": {
    "scrolled": true
   },
   "outputs": [
    {
     "data": {
      "text/plain": [
       "[{'generated_text': 'Plan a 7 day trip in europe in December, what kind of weather conditions should I expect? December is one of the coldest months in Europe, with average temperatures ranging from 32°F (0°C) to 43°F (6°C) throughout the continent.\\nWhat is the best way to travel in Europe in December?\\nThe best way to travel in Europe in December depends on your personal preferences, budget, and the specific destinations you plan to visit. However, here are some popular options:\\n1. Train: Europe has an excellent rail network, and trains are a convenient way to travel between cities. You can book tickets in advance through websites like Eurail, Rail Europe, or national rail companies like SNCF (France), DB (Germany), or Trenitalia (Italy).\\n2. Budget Airlines: Low-cost carriers like Ryanair, EasyJet, and Wizz Air offer affordable flights between European cities. Be sure to check for any additional fees for baggage, food, or seat selection.\\n3. Bus: Companies like FlixBus, Eurolines, and National Express operate bus services between cities, often at a lower cost than trains or flights.\\n4. Car Rental: If you prefer to drive, car rental companies like Europcar, Sixt, and Hertz have locations throughout Europe. Keep in mind that'}]"
      ]
     },
     "execution_count": 23,
     "metadata": {},
     "output_type": "execute_result"
    }
   ],
   "source": [
    "predictor.predict(\n",
    "    {\n",
    "        \"inputs\": \"Plan a 7 day trip in europe in December, what kind of weather conditions should I expect?\",\n",
    "        \"parameters\": {\n",
    "            \"do_sample\":True,\n",
    "            \"max_new_tokens\":250,\n",
    "            \"top_p\":0.9,\n",
    "            \"temperature\":0.6,\n",
    "        }\n",
    "    }\n",
    ")"
   ]
  },
  {
   "cell_type": "markdown",
   "id": "0d5ef1fc-35ed-485d-9a49-8419933a8659",
   "metadata": {},
   "source": [
    "# Streaming Response"
   ]
  },
  {
   "cell_type": "code",
   "execution_count": null,
   "id": "2cd0b61e-7e2d-4232-a48d-b4a3677184ed",
   "metadata": {},
   "outputs": [],
   "source": [
    "#Get the list of endpoints.\n",
    "import sagemaker\n",
    "from sagemaker.huggingface import HuggingFacePredictor\n",
    "\n",
    "# Get the endpoint name from your list of endpoints\n",
    "sagemaker_client = boto3.client('sagemaker')\n",
    "endpoints = sagemaker_client.list_endpoints()['Endpoints']\n",
    "for endpoint in endpoints:\n",
    "    print(endpoint['EndpointName'])"
   ]
  },
  {
   "cell_type": "code",
   "execution_count": 30,
   "id": "f408b77a-b4ba-45d8-81b4-8f147bcfa943",
   "metadata": {},
   "outputs": [
    {
     "name": "stdout",
     "output_type": "stream",
     "text": [
      "Prompt: Plan a 1 week trip to Europe in March, I like historical sites\n",
      "\n",
      "Response:  and architecture.\n",
      "Europe in March can be a great destination, with fewer tourists than in the peak summer months, and many historical sites and architectural wonders to explore. Here's a suggested 1-week itinerary for a trip to Europe in March, focusing on historical sites and architecture:\n",
      "\n",
      "**Destination:** Rome, Italy, and Barcelona, Spain\n",
      "\n",
      "**Day 1-3: Rome, Italy**\n",
      "\n",
      "* Fly into Rome's Leonardo da Vinci–Fiumicino Airport (FCO* Explore the Colosseum (70-80 EUR per person), the Roman Forum (12 EUR per person), and the Pantheon (free admission)\n",
      "* Visit the Vatican City, including the Vatican Museums (-25 EUR per person) and St. Peter's Basilica (free admission)\n",
      "* Wander through the center, taking in the architecture and piazzas, such as Piazza Navona the Spanish Steps\n",
      "* Enjoy the local cuisine, including pizza, pasta, and gelato**Day 4-7: Barcelona, Spain**\n",
      "\n",
      "* Take a flight from Rome to Barcelona's El Prat (BCN)\n",
      "* Explore the works ofi Gaudí, including the Sagrada Família (26 EUR per person), Park Güell ( EUR per person), and Casa Batlló ( EUR per person)\n",
      "* Visit the Quarter, including the Barcelona Cathedral (7 EUR per person) and Plaça Sant Jaume\n",
      "*roll along La Rambla, a famous pedestrian street, and visit the Boqueria Market (free admission)\n",
      "* on Barceloneta Beach or take a along the waterfront\n",
      "\n",
      "**Additional Tips:**\n",
      "\n",
      "* March weather in Rome and Barcelona can be mild, with average highs around °C (63°F), but it's still a good idea to pack layers for cooler mornings and evenings.\n",
      "* Consider purchasing a Roma Pass (28.50 EUR per person) or a Barcelona Hola BCN card (20-30 EUR per person) for discounts and public transportation.\n",
      "* your flights and accommodations in advance to ensure availability and the best prices.\n",
      "* Don't forget to the local cuisine and drinks, such as Italian coffee and Spanish tapas.\n",
      "\n",
      "**Budget Breakdown:**\n",
      "\n",
      "* Flights: 200-300 EUR per person (depending on the time of booking and departure city)\n",
      "* Accommodation: 300- EUR per person (for a 7-night stay in a budget-friendly hotel or hostel)\n",
      "* Transportation: 20\n",
      "\n",
      "Metrics:\n",
      "Time to First Token (TTFT): 0.14 seconds\n",
      "Total Tokens Generated: 493\n",
      "Total Latency: 13.60 seconds\n"
     ]
    }
   ],
   "source": [
    "import json\n",
    "import boto3\n",
    "import time\n",
    "from datetime import datetime\n",
    "\n",
    "client = boto3.client('sagemaker-runtime')\n",
    "##Update your endpoint below to invoke it using streaming response\n",
    "\n",
    "endpoint= \"huggingface-pytorch-tgi-inference-2024-12-07-01-30-30-704\"\n",
    "prompt = \"Plan a 1 week trip to Europe in March, I like historical sites\"\n",
    "\n",
    "start_time = time.time()\n",
    "first_token_received = False\n",
    "ttft = None\n",
    "token_count = 0\n",
    "\n",
    "print(f\"Prompt: {prompt}\\n\")\n",
    "print(\"Response:\", end=' ', flush=True)\n",
    "\n",
    "response = client.invoke_endpoint_with_response_stream(\n",
    "    EndpointName=endpoint,\n",
    "    ContentType=\"application/json\",\n",
    "    Body=json.dumps({\n",
    "        \"inputs\": prompt,\n",
    "        \"parameters\": {\n",
    "            \"max_new_tokens\": 512,\n",
    "            \"do_sample\": True,\n",
    "            \"temperature\": 0.7\n",
    "        },\n",
    "        \"stream\": True\n",
    "    })\n",
    ")\n",
    "\n",
    "for event in response['Body']:\n",
    "    line = event['PayloadPart']['Bytes'].decode()\n",
    "    if line.startswith('data: '):\n",
    "        try:\n",
    "            chunk = json.loads(line[6:])  # Skip the \"data: \" prefix\n",
    "            if 'token' in chunk:\n",
    "                token_count += 1\n",
    "                if not first_token_received:\n",
    "                    ttft = time.time() - start_time\n",
    "                    first_token_received = True\n",
    "                print(chunk['token']['text'], end='', flush=True)\n",
    "        except json.JSONDecodeError:\n",
    "            continue\n",
    "\n",
    "end_time = time.time()\n",
    "total_latency = end_time - start_time\n",
    "\n",
    "print(\"\\n\\nMetrics:\")\n",
    "print(f\"Time to First Token (TTFT): {ttft:.2f} seconds\")\n",
    "print(f\"Total Tokens Generated: {token_count}\")\n",
    "print(f\"Total Latency: {total_latency:.2f} seconds\")"
   ]
  },
  {
   "cell_type": "code",
   "execution_count": null,
   "id": "39dc2278-aff2-4356-9f5c-2235c95d908f",
   "metadata": {},
   "outputs": [],
   "source": [
    "##Delete endpoint after use to save costs\n",
    "predictor.delete_endpoint(delete_endpoint_config=True)"
   ]
  }
 ],
 "metadata": {
  "kernelspec": {
   "display_name": "Python 3 (ipykernel)",
   "language": "python",
   "name": "python3"
  },
  "language_info": {
   "codemirror_mode": {
    "name": "ipython",
    "version": 3
   },
   "file_extension": ".py",
   "mimetype": "text/x-python",
   "name": "python",
   "nbconvert_exporter": "python",
   "pygments_lexer": "ipython3",
   "version": "3.10.14"
  }
 },
 "nbformat": 4,
 "nbformat_minor": 5
}
