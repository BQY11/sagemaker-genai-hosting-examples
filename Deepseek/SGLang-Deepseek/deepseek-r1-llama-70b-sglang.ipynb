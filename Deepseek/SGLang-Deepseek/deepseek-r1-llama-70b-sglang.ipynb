{
 "cells": [
  {
   "cell_type": "markdown",
   "id": "aded5ace-7694-47d0-a8d9-ec0ea6a3bd54",
   "metadata": {},
   "source": [
    "# Run DeepSeek R1 Llama 70B efficient on Amazon SageMaker AI with SGLang\n",
    "\n",
    "> This notebook has been tested on the Python 3 kernel of a SageMaker Jupternotebook instance on a ml.m5.xlarge instance with 50GB of disk size\n",
    "\n",
    "Amazon SageMaker AI provides the ability to build Docker containers to run on SageMaker endpoints, where they listen for health checks on /ping and receive real-time inference requests on /invocations. Using SageMaker AI for inference offers several benefits:\n",
    "\n",
    "- **Scalability**: SageMaker AI can automatically scale your inference endpoints up and down based on demand, ensuring your models can handle varying workloads.\n",
    "- **High Availability**: SageMaker AI manages the infrastructure and maintains the availability of your inference endpoints, so you don't have to worry about managing the underlying resources.\n",
    "- **Monitoring and Logging**: SageMaker AI provides built-in monitoring and logging capabilities, making it easier to track the performance and health of your inference endpoints.\n",
    "- **Security**: SageMaker AI integrates with other AWS services, such as AWS Identity and Access Management (IAM), to provide robust security controls for your inference workloads.\n",
    "\n",
    "Note that SageMaker provides [pre-built SageMaker AI Docker images](https://docs.aws.amazon.com/sagemaker/latest/dg/pre-built-containers-frameworks-deep-learning.html) that can help you quickly start with the model inference on SageMaker. It also allows you to [bring your own Docker container](https://docs.aws.amazon.com/sagemaker/latest/dg/adapt-inference-container.html) and use it inside SageMaker AI for training and inference. To be compatible with SageMaker AI, your container must have the following characteristics:\n",
    "\n",
    "- Your container must have a web server listening on port 8080.\n",
    "- Your container must accept POST requests to the /invocations and /ping real-time endpoints.\n",
    "\n",
    "In this notebook, we'll demonstrate how to adapt the [**SGLang**](https://github.com/sgl-project/sglang) framework to run on SageMaker AI endpoints. SGLang is a serving framework for large language models that provides state-of-the-art performance, including a fast backend runtime for efficient serving with RadixAttention, extensive model support, and an active open-source community. For more information refer to https://docs.sglang.ai/index.html and https://github.com/sgl-project/sglang.\n",
    "\n",
    "By using SGLang and building a custom Docker container, you can run advanced AI models like the [DeepSeek R1 Llama 70B](https://huggingface.co/deepseek-ai/DeepSeek-R1-Distill-Llama-70B) on a SageMaker AI endpoint.\n"
   ]
  },
  {
   "attachments": {},
   "cell_type": "markdown",
   "id": "a1d7a83c-d175-4443-b9cf-26d8bad5fedb",
   "metadata": {},
   "source": [
    "## Prepare the SGLang SageMaker container\n",
    "\n",
    "SageMaker AI makes extensive use of Docker containers for build and runtime tasks. Using containers, you can train machine learning algorithms and deploy models quickly and reliably at any scale. See [this link](https://docs.aws.amazon.com/sagemaker/latest/dg/your-algorithms-inference-code.html#your-algorithms-inference-code-run-image) to understand how SageMaker AI runs your inference image. \n",
    "\n",
    "- For model inference, SageMaker AI runs the container as:\n",
    "```\n",
    "docker run image serve\n",
    "```\n",
    "\n",
    "- You can provide your entrypoint script as `exec` form to provide instruction of how to perform the inference process, for example:\n",
    "```\n",
    "ENTRYPOINT [\"python\", \"inference.py\"]\n",
    "```\n",
    "\n",
    "- When deploying ML models, one option is to archive and compress the model artifacts into a `tar.gz` format and provided the s3 path of the model artifacts as the `ModelDataUrl` in the [`CreateModel`](https://docs.aws.amazon.com/sagemaker/latest/APIReference/API_CreateModel.html) API request. SageMaker AI will copy the model artifacts from the S3 location \n",
    " and decompresses this tar file into `/opt/ml/model` directory before your container starts for use by your inference code. However, for deploying large models, SageMaker AI allows you to [deploy uncompressed models](https://docs.aws.amazon.com/sagemaker/latest/dg/large-model-inference-uncompressed.html). In this example, we will show you how to use the uncompressed DeepSeek R1 Distilled Llama 70B model.\n",
    "\n",
    "- To receive inference requests, the container must have a web server listening on port `8080` and must accept `POST` requests to the `/invocations` and `/ping` endpoints.\n",
    "\n",
    "The below diagram shows on a high-level, how you should prepare your own container image to be compatible for SageMaker AI hosting. \n",
    "\n",
    "![inference](./img/sagemaker-real-time-inference.png)\n",
    "\n",
    "\n",
    "If you already have a docker image, you can see more instructions for [adapting your own inference container for SageMaker AI](https://docs.aws.amazon.com/sagemaker/latest/dg/adapt-inference-container.html). Also it is important to note that, SageMaker AI provided containers automatically implements a web server for serving requests that responds to `/invocations` and `/ping` (for healthcheck) requests. You can find more about the [prebuilt SageMaker AI docker images for deep learning in our SageMaker doc](https://docs.aws.amazon.com/sagemaker/latest/dg/pre-built-containers-frameworks-deep-learning.html).\n",
    "\n",
    "\n"
   ]
  },
  {
   "cell_type": "markdown",
   "id": "c03e5664-d4e8-404b-91d9-2c9f3845d4a1",
   "metadata": {},
   "source": [
    "#### Create the entrypoint serve file \n",
    "The `serve` file will used as the `exec` form to be executed at the container starting time. The main command to start sglang in the SageMaker docker image is \n",
    "```\n",
    "python3 -m sglang.launch_server --model-path <your model path> --host 0.0.0.0 --port 8080\n",
    "```\n",
    "Here the `model-path` can be set as `/opt/ml/model` as this is where SageMaker AI will copy the model artifacts from s3 to the endpoint and use `port` **8080** as required by SageMaker hosting."
   ]
  },
  {
   "cell_type": "code",
   "execution_count": 1,
   "id": "b5ea56ce-7062-4b5e-8194-3ecb67079ed7",
   "metadata": {
    "tags": []
   },
   "outputs": [
    {
     "name": "stdout",
     "output_type": "stream",
     "text": [
      "Writing serve\n"
     ]
    }
   ],
   "source": [
    "%%writefile serve\n",
    "#!/bin/bash\n",
    "\n",
    "echo \"Starting server\"\n",
    "\n",
    "SERVER_ARGS=\"--host 0.0.0.0 --port 8080\"\n",
    "\n",
    "if [ -n \"$TENSOR_PARALLEL_DEGREE\" ]; then\n",
    "    SERVER_ARGS=\"${SERVER_ARGS} --tp-size ${TENSOR_PARALLEL_DEGREE}\"\n",
    "fi\n",
    "\n",
    "if [ -n \"$DATA_PARALLEL_DEGREE\" ]; then\n",
    "    SERVER_ARGS=\"${SERVER_ARGS} --dp-size ${DATA_PARALLEL_DEGREE}\"\n",
    "fi\n",
    "\n",
    "if [ -n \"$EXPERT_PARALLEL_DEGREE\" ]; then\n",
    "    SERVER_ARGS=\"${SERVER_ARGS} --ep-size ${EXPERT_PARALLEL_DEGREE}\"\n",
    "fi\n",
    "\n",
    "if [ -n \"$MEM_FRACTION_STATIC\" ]; then\n",
    "    SERVER_ARGS=\"${SERVER_ARGS} --mem-fraction-static ${MEM_FRACTION_STATIC}\"\n",
    "fi\n",
    "\n",
    "if [ -n \"$QUANTIZATION\" ]; then\n",
    "    SERVER_ARGS=\"${SERVER_ARGS} --quantization ${QUANTIZATION}\"\n",
    "fi\n",
    "\n",
    "if [ -n \"$CHUNKED_PREFILL_SIZE\" ]; then\n",
    "    SERVER_ARGS=\"${SERVER_ARGS} --chunked-prefill-size ${CHUNKED_PREFILL_SIZE}\"\n",
    "fi\n",
    "\n",
    "if [ -n \"$MODEL_ID\" ]; then\n",
    "    SERVER_ARGS=\"${SERVER_ARGS} --model-path ${MODEL_ID}\"\n",
    "else\n",
    "    SERVER_ARGS=\"${SERVER_ARGS} --model-path /opt/ml/model\"\n",
    "fi\n",
    "\n",
    "if [ -n \"$TORCH_COMPILE\" ]; then\n",
    "    SERVER_ARGS=\"${SERVER_ARGS} --enable-torch-compile\"\n",
    "fi\n",
    "\n",
    "if [ -n \"$TORCHAO_CONFIG\" ]; then\n",
    "    SERVER_ARGS=\"${SERVER_ARGS} --torchao-config ${TORCHAO_CONFIG}\"\n",
    "fi\n",
    "\n",
    "if [ -n \"$KV_CACHE_DTYPE\" ]; then\n",
    "    SERVER_ARGS=\"{$SERVER_ARGS} --kv-cache-dtype ${KV_CACHE_DTYPE}\"\n",
    "fi\n",
    "\n",
    "python3 -m sglang.launch_server $SERVER_ARGS"
   ]
  },
  {
   "cell_type": "markdown",
   "id": "d076da43-2458-403c-9dde-0c27107f4f0b",
   "metadata": {},
   "source": [
    "SGLang has provided the based [Dockerfile here](https://github.com/sgl-project/sglang/blob/main/docker/Dockerfile). You can directly extend the base image with\n",
    "\n",
    "```\n",
    "# Extend from the base sglang image\n",
    "FROM lmsysorg/sglang:latest\n",
    "```\n",
    "\n",
    "In this example, we have copied the whole base Dockerfile and added the below lines to make it compatible with SageMaker\n",
    "```\n",
    "COPY serve /usr/bin/serve\n",
    "RUN chmod 777 /usr/bin/serve\n",
    "\n",
    "ENTRYPOINT [ \"/usr/bin/serve\" ]\n",
    "```\n",
    "You can add additional layers in the container image to accomodate your specific use case."
   ]
  },
  {
   "cell_type": "code",
   "execution_count": 2,
   "id": "ee2ad6dc-ae4e-4ac6-8c55-42359a04dfca",
   "metadata": {},
   "outputs": [
    {
     "name": "stdout",
     "output_type": "stream",
     "text": [
      "Writing Dockerfile\n"
     ]
    }
   ],
   "source": [
    "%%writefile Dockerfile\n",
    "ARG CUDA_VERSION=12.5.1\n",
    "\n",
    "FROM nvcr.io/nvidia/tritonserver:24.04-py3-min\n",
    "\n",
    "ARG BUILD_TYPE=all\n",
    "ENV DEBIAN_FRONTEND=noninteractive\n",
    "\n",
    "RUN echo 'tzdata tzdata/Areas select America' | debconf-set-selections \\\n",
    "    && echo 'tzdata tzdata/Zones/America select Los_Angeles' | debconf-set-selections \\\n",
    "    && apt update -y \\\n",
    "    && apt install software-properties-common -y \\\n",
    "    && add-apt-repository ppa:deadsnakes/ppa -y && apt update \\\n",
    "    && apt install python3.10 python3.10-dev -y \\\n",
    "    && update-alternatives --install /usr/bin/python3 python3 /usr/bin/python3.10 1 \\\n",
    "    && update-alternatives --set python3 /usr/bin/python3.10 && apt install python3.10-distutils -y \\\n",
    "    && apt install curl git sudo libibverbs-dev -y \\\n",
    "    && apt install -y rdma-core infiniband-diags openssh-server perftest ibverbs-providers libibumad3 libibverbs1 libnl-3-200 libnl-route-3-200 librdmacm1 \\\n",
    "    && curl https://bootstrap.pypa.io/get-pip.py -o get-pip.py && python3 get-pip.py \\\n",
    "    && python3 --version \\\n",
    "    && python3 -m pip --version \\\n",
    "    && rm -rf /var/lib/apt/lists/* \\\n",
    "    && apt clean\n",
    "\n",
    "# For openbmb/MiniCPM models\n",
    "RUN pip3 install datamodel_code_generator\n",
    "\n",
    "WORKDIR /sgl-workspace\n",
    "\n",
    "ARG CUDA_VERSION\n",
    "RUN python3 -m pip install --upgrade pip setuptools wheel html5lib six \\\n",
    "    && git clone --depth=1 https://github.com/sgl-project/sglang.git \\\n",
    "    && if [ \"$CUDA_VERSION\" = \"12.1.1\" ]; then \\\n",
    "         python3 -m pip install torch --index-url https://download.pytorch.org/whl/cu121; \\\n",
    "       elif [ \"$CUDA_VERSION\" = \"12.4.1\" ]; then \\\n",
    "         python3 -m pip install torch --index-url https://download.pytorch.org/whl/cu124; \\\n",
    "       elif [ \"$CUDA_VERSION\" = \"12.5.1\" ]; then \\\n",
    "         python3 -m pip install torch --index-url https://download.pytorch.org/whl/cu124; \\\n",
    "       elif [ \"$CUDA_VERSION\" = \"11.8.0\" ]; then \\\n",
    "         python3 -m pip install torch --index-url https://download.pytorch.org/whl/cu118; \\\n",
    "         python3 -m pip install sgl-kernel -i https://docs.sglang.ai/whl/cu118; \\\n",
    "       else \\\n",
    "         echo \"Unsupported CUDA version: $CUDA_VERSION\" && exit 1; \\\n",
    "       fi \\\n",
    "    && cd sglang \\\n",
    "    && if [ \"$BUILD_TYPE\" = \"srt\" ]; then \\\n",
    "         if [ \"$CUDA_VERSION\" = \"12.1.1\" ]; then \\\n",
    "           python3 -m pip --no-cache-dir install -e \"python[srt]\" --find-links https://flashinfer.ai/whl/cu121/torch2.5/flashinfer-python; \\\n",
    "         elif [ \"$CUDA_VERSION\" = \"12.4.1\" ]; then \\\n",
    "           python3 -m pip --no-cache-dir install -e \"python[srt]\" --find-links https://flashinfer.ai/whl/cu124/torch2.5/flashinfer-python; \\\n",
    "         elif [ \"$CUDA_VERSION\" = \"12.5.1\" ]; then \\\n",
    "           python3 -m pip --no-cache-dir install -e \"python[srt]\" --find-links https://flashinfer.ai/whl/cu124/torch2.5/flashinfer-python; \\\n",
    "         elif [ \"$CUDA_VERSION\" = \"11.8.0\" ]; then \\\n",
    "           python3 -m pip --no-cache-dir install -e \"python[srt]\" --find-links https://flashinfer.ai/whl/cu118/torch2.5/flashinfer-python; \\\n",
    "           python3 -m pip install sgl-kernel -i https://docs.sglang.ai/whl/cu118; \\\n",
    "         else \\\n",
    "           echo \"Unsupported CUDA version: $CUDA_VERSION\" && exit 1; \\\n",
    "         fi; \\\n",
    "       else \\\n",
    "         if [ \"$CUDA_VERSION\" = \"12.1.1\" ]; then \\\n",
    "           python3 -m pip --no-cache-dir install -e \"python[all]\" --find-links https://flashinfer.ai/whl/cu121/torch2.5/flashinfer-python; \\\n",
    "         elif [ \"$CUDA_VERSION\" = \"12.4.1\" ]; then \\\n",
    "           python3 -m pip --no-cache-dir install -e \"python[all]\" --find-links https://flashinfer.ai/whl/cu124/torch2.5/flashinfer-python; \\\n",
    "         elif [ \"$CUDA_VERSION\" = \"12.5.1\" ]; then \\\n",
    "           python3 -m pip --no-cache-dir install -e \"python[all]\" --find-links https://flashinfer.ai/whl/cu124/torch2.5/flashinfer-python; \\\n",
    "         elif [ \"$CUDA_VERSION\" = \"11.8.0\" ]; then \\\n",
    "           python3 -m pip --no-cache-dir install -e \"python[all]\" --find-links https://flashinfer.ai/whl/cu118/torch2.5/flashinfer-python; \\\n",
    "           python3 -m pip install sgl-kernel -i https://docs.sglang.ai/whl/cu118; \\\n",
    "         else \\\n",
    "           echo \"Unsupported CUDA version: $CUDA_VERSION\" && exit 1; \\\n",
    "         fi; \\\n",
    "       fi\n",
    "\n",
    "ENV DEBIAN_FRONTEND=interactive\n",
    "\n",
    "COPY serve /usr/bin/serve\n",
    "RUN chmod 777 /usr/bin/serve\n",
    "\n",
    "ENTRYPOINT [ \"/usr/bin/serve\" ]"
   ]
  },
  {
   "cell_type": "markdown",
   "id": "93158bf1-2cb4-4de3-8f82-9a351eb7dc8d",
   "metadata": {},
   "source": [
    "Next, we will need to create an ECR repository for the custom docker image and build the image locally and push to the ECR repository. Note that you need to make sure the IAM role you used here has permission to push to ECR. \n",
    "\n",
    "The below cell might take sometime, please be patient. If you have already built the docker image from other development environment, please feel free to skip the below cell."
   ]
  },
  {
   "cell_type": "code",
   "execution_count": null,
   "id": "6fc3001d-88c2-4610-847e-b018dffb2074",
   "metadata": {
    "scrolled": true,
    "tags": []
   },
   "outputs": [],
   "source": [
    "%%sh\n",
    "ACCOUNT_ID=$(aws sts get-caller-identity --query Account --output text)\n",
    "REGION=$(aws configure get region)\n",
    "REPOSITORY_NAME=sglang-sagemaker\n",
    "\n",
    "# Create ECR repository if needed\n",
    "if aws ecr describe-repositories --repository-names \"${REPOSITORY_NAME}\" &>/dev/null; then\n",
    "    echo \"Repository ${REPOSITORY_NAME} already exists\"\n",
    "else\n",
    "    echo \"Creating ECR repository ${REPOSITORY_NAME}...\"\n",
    "    aws ecr create-repository \\\n",
    "        --repository-name \"${REPOSITORY_NAME}\" \\\n",
    "        --region \"${REGION}\"\n",
    "fi\n",
    "\n",
    "#build docker image and push to ECR repository\n",
    "docker build -t sglang .\n",
    "aws ecr get-login-password --region $REGION | docker login --username AWS --password-stdin $ACCOUNT_ID.dkr.ecr.$REGION.amazonaws.com\n",
    "docker tag sglang:latest $ACCOUNT_ID.dkr.ecr.$REGION.amazonaws.com/$REPOSITORY_NAME:latest\n",
    "docker push $ACCOUNT_ID.dkr.ecr.$REGION.amazonaws.com/$REPOSITORY_NAME:latest"
   ]
  },
  {
   "cell_type": "markdown",
   "id": "8d7620d7-05d4-49be-9f4c-9dab1e25f17d",
   "metadata": {},
   "source": [
    "### Create SageMaker AI endpoint for DeepSeek R1 distilled Llama 70B model\n",
    "In this example, we will use the DeepSeek R1 distilled Llama 70B model artifacts directly [SageMaker Jumpstart](https://docs.aws.amazon.com/sagemaker/latest/dg/studio-jumpstart.html). This way, it saves you time to download the model from HuggingFace and upload to S3.\n",
    "\n",
    "SageMaker JumpStart provides pretrained, open-source models for a wide range of problem types to help you get started with machine learning. You can incrementally train and tune these models before deployment. JumpStart also provides solution templates that set up infrastructure for common use cases, and executable example notebooks for machine learning with SageMaker AI.\n",
    "\n",
    "You can see the Deepseek model on SageMaker Jumpstart in SageMaker AI Studio as shown below:\n",
    "\n",
    "![deepseek-jumpstart](./img/jumpstart-deepseek-model.png)"
   ]
  },
  {
   "cell_type": "code",
   "execution_count": 14,
   "id": "49095ae2-0f51-49e3-acf4-e554fff52cbf",
   "metadata": {},
   "outputs": [
    {
     "name": "stderr",
     "output_type": "stream",
     "text": [
      "No instance type selected for inference hosting endpoint. Defaulting to ml.p4d.24xlarge.\n"
     ]
    },
    {
     "data": {
      "text/html": [
       "<pre style=\"white-space:pre;overflow-x:auto;line-height:normal;font-family:Menlo,'DejaVu Sans Mono',consolas,'Courier New',monospace\"><span style=\"color: #7fbfbf; text-decoration-color: #7fbfbf\">[02/23/25 07:18:04] </span><span style=\"color: #0069ff; text-decoration-color: #0069ff; font-weight: bold\">INFO    </span> No instance type selected for inference hosting endpoint. Defaulting to   <a href=\"file:///home/ec2-user/anaconda3/envs/python3/lib/python3.10/site-packages/sagemaker/jumpstart/factory/model.py\" target=\"_blank\"><span style=\"color: #7f7f7f; text-decoration-color: #7f7f7f\">model.py</span></a><span style=\"color: #7f7f7f; text-decoration-color: #7f7f7f\">:</span><a href=\"file:///home/ec2-user/anaconda3/envs/python3/lib/python3.10/site-packages/sagemaker/jumpstart/factory/model.py#238\" target=\"_blank\"><span style=\"color: #7f7f7f; text-decoration-color: #7f7f7f\">238</span></a>\n",
       "<span style=\"color: #7fbfbf; text-decoration-color: #7fbfbf\">                    </span>         ml.p4d.24xlarge.                                                          <span style=\"color: #7f7f7f; text-decoration-color: #7f7f7f\">            </span>\n",
       "</pre>\n"
      ],
      "text/plain": [
       "\u001b[2;36m[02/23/25 07:18:04]\u001b[0m\u001b[2;36m \u001b[0m\u001b[1;38;2;0;105;255mINFO    \u001b[0m No instance type selected for inference hosting endpoint. Defaulting to   \u001b]8;id=24031;file:///home/ec2-user/anaconda3/envs/python3/lib/python3.10/site-packages/sagemaker/jumpstart/factory/model.py\u001b\\\u001b[2mmodel.py\u001b[0m\u001b]8;;\u001b\\\u001b[2m:\u001b[0m\u001b]8;id=568194;file:///home/ec2-user/anaconda3/envs/python3/lib/python3.10/site-packages/sagemaker/jumpstart/factory/model.py#238\u001b\\\u001b[2m238\u001b[0m\u001b]8;;\u001b\\\n",
       "\u001b[2;36m                    \u001b[0m         ml.p4d.24xlarge.                                                          \u001b[2m            \u001b[0m\n"
      ]
     },
     "metadata": {},
     "output_type": "display_data"
    },
    {
     "data": {
      "text/plain": [
       "'s3://jumpstart-cache-prod-us-west-2/deepseek-llm/deepseek-llm-r1-distill-llama-70b/artifacts/inference-prepack/v1.0.0/'"
      ]
     },
     "execution_count": 14,
     "metadata": {},
     "output_type": "execute_result"
    }
   ],
   "source": [
    "from sagemaker.jumpstart.model import JumpStartModel\n",
    "model_id, model_version = \"deepseek-llm-r1-distill-llama-70b\", \"*\"\n",
    "\n",
    "model = JumpStartModel(model_id=model_id, model_version=model_version)\n",
    "model_data=model.model_data['S3DataSource']['S3Uri']\n",
    "model_data"
   ]
  },
  {
   "cell_type": "markdown",
   "id": "66560cdc-9dda-478a-bac2-88ed2e6feef3",
   "metadata": {},
   "source": [
    "Then we will create the [SageMaker model](https://github.com/aws/sagemaker-python-sdk/blob/master/src/sagemaker/model.py#L149) with the custom docker image and model data available on s3."
   ]
  },
  {
   "cell_type": "code",
   "execution_count": 18,
   "id": "d6322e5d-23ad-4eb1-9d50-c88bd0ee4996",
   "metadata": {
    "tags": []
   },
   "outputs": [
    {
     "data": {
      "text/html": [
       "<pre style=\"white-space:pre;overflow-x:auto;line-height:normal;font-family:Menlo,'DejaVu Sans Mono',consolas,'Courier New',monospace\"><span style=\"color: #7fbfbf; text-decoration-color: #7fbfbf\">[02/23/25 01:18:54] </span><span style=\"color: #0069ff; text-decoration-color: #0069ff; font-weight: bold\">INFO    </span> Found credentials from IAM Role:                                   <a href=\"file:///home/ec2-user/anaconda3/envs/python3/lib/python3.10/site-packages/botocore/credentials.py\" target=\"_blank\"><span style=\"color: #7f7f7f; text-decoration-color: #7f7f7f\">credentials.py</span></a><span style=\"color: #7f7f7f; text-decoration-color: #7f7f7f\">:</span><a href=\"file:///home/ec2-user/anaconda3/envs/python3/lib/python3.10/site-packages/botocore/credentials.py#1075\" target=\"_blank\"><span style=\"color: #7f7f7f; text-decoration-color: #7f7f7f\">1075</span></a>\n",
       "<span style=\"color: #7fbfbf; text-decoration-color: #7fbfbf\">                    </span>         BaseNotebookInstanceEc2InstanceRole                                <span style=\"color: #7f7f7f; text-decoration-color: #7f7f7f\">                   </span>\n",
       "</pre>\n"
      ],
      "text/plain": [
       "\u001b[2;36m[02/23/25 01:18:54]\u001b[0m\u001b[2;36m \u001b[0m\u001b[1;38;2;0;105;255mINFO    \u001b[0m Found credentials from IAM Role:                                   \u001b]8;id=136741;file:///home/ec2-user/anaconda3/envs/python3/lib/python3.10/site-packages/botocore/credentials.py\u001b\\\u001b[2mcredentials.py\u001b[0m\u001b]8;;\u001b\\\u001b[2m:\u001b[0m\u001b]8;id=816363;file:///home/ec2-user/anaconda3/envs/python3/lib/python3.10/site-packages/botocore/credentials.py#1075\u001b\\\u001b[2m1075\u001b[0m\u001b]8;;\u001b\\\n",
       "\u001b[2;36m                    \u001b[0m         BaseNotebookInstanceEc2InstanceRole                                \u001b[2m                   \u001b[0m\n"
      ]
     },
     "metadata": {},
     "output_type": "display_data"
    },
    {
     "data": {
      "text/html": [
       "<pre style=\"white-space:pre;overflow-x:auto;line-height:normal;font-family:Menlo,'DejaVu Sans Mono',consolas,'Courier New',monospace\"><span style=\"color: #7fbfbf; text-decoration-color: #7fbfbf\">                    </span><span style=\"color: #0069ff; text-decoration-color: #0069ff; font-weight: bold\">INFO    </span> Found credentials from IAM Role:                                   <a href=\"file:///home/ec2-user/anaconda3/envs/python3/lib/python3.10/site-packages/botocore/credentials.py\" target=\"_blank\"><span style=\"color: #7f7f7f; text-decoration-color: #7f7f7f\">credentials.py</span></a><span style=\"color: #7f7f7f; text-decoration-color: #7f7f7f\">:</span><a href=\"file:///home/ec2-user/anaconda3/envs/python3/lib/python3.10/site-packages/botocore/credentials.py#1075\" target=\"_blank\"><span style=\"color: #7f7f7f; text-decoration-color: #7f7f7f\">1075</span></a>\n",
       "<span style=\"color: #7fbfbf; text-decoration-color: #7fbfbf\">                    </span>         BaseNotebookInstanceEc2InstanceRole                                <span style=\"color: #7f7f7f; text-decoration-color: #7f7f7f\">                   </span>\n",
       "</pre>\n"
      ],
      "text/plain": [
       "\u001b[2;36m                   \u001b[0m\u001b[2;36m \u001b[0m\u001b[1;38;2;0;105;255mINFO    \u001b[0m Found credentials from IAM Role:                                   \u001b]8;id=161110;file:///home/ec2-user/anaconda3/envs/python3/lib/python3.10/site-packages/botocore/credentials.py\u001b\\\u001b[2mcredentials.py\u001b[0m\u001b]8;;\u001b\\\u001b[2m:\u001b[0m\u001b]8;id=140168;file:///home/ec2-user/anaconda3/envs/python3/lib/python3.10/site-packages/botocore/credentials.py#1075\u001b\\\u001b[2m1075\u001b[0m\u001b]8;;\u001b\\\n",
       "\u001b[2;36m                    \u001b[0m         BaseNotebookInstanceEc2InstanceRole                                \u001b[2m                   \u001b[0m\n"
      ]
     },
     "metadata": {},
     "output_type": "display_data"
    }
   ],
   "source": [
    "import sagemaker\n",
    "from sagemaker.serializers import JSONSerializer\n",
    "from sagemaker.deserializers import JSONDeserializer\n",
    "from sagemaker.model import Model\n",
    "from sagemaker.predictor import Predictor\n",
    "from sagemaker.session import Session\n",
    "session = Session()\n",
    "region = session._region_name\n",
    "role = sagemaker.get_execution_role()\n",
    "ecr_uri = f'{session.account_id()}.dkr.ecr.{region}.amazonaws.com/sglang-sagemaker:latest'\n",
    "\n",
    "model = Model(\n",
    "    model_data={\"S3DataSource\": {\n",
    "                    \"S3Uri\": model_data,\n",
    "                    \"S3DataType\": \"S3Prefix\",\n",
    "                    \"CompressionType\": \"None\",\n",
    "                },\n",
    "    },\n",
    "    role=role,\n",
    "    image_uri=ecr_uri,\n",
    "    env={\n",
    "        'TENSOR_PARALLEL_DEGREE': '8'\n",
    "    },\n",
    "    predictor_cls=Predictor\n",
    ")"
   ]
  },
  {
   "cell_type": "markdown",
   "id": "2fe7448b-0e70-4bfa-9d39-31757c19de6f",
   "metadata": {},
   "source": [
    "You can simply call the [`deploy` function](https://github.com/aws/sagemaker-python-sdk/blob/master/src/sagemaker/model.py#L149) from the SageMaker Model class to deploy the model to an endpoint and it will return a [`Predictor`](https://github.com/aws/sagemaker-python-sdk/blob/master/src/sagemaker/base_predictor.py#L98) object to perform invocation against this endpoint."
   ]
  },
  {
   "cell_type": "code",
   "execution_count": 19,
   "id": "8e0182ef-7f2b-4ded-b407-a8411bd391e0",
   "metadata": {
    "tags": []
   },
   "outputs": [
    {
     "data": {
      "text/html": [
       "<pre style=\"white-space:pre;overflow-x:auto;line-height:normal;font-family:Menlo,'DejaVu Sans Mono',consolas,'Courier New',monospace\"><span style=\"color: #7fbfbf; text-decoration-color: #7fbfbf\">[02/23/25 01:18:55] </span><span style=\"color: #0069ff; text-decoration-color: #0069ff; font-weight: bold\">INFO    </span> Found credentials from IAM Role:                                   <a href=\"file:///home/ec2-user/anaconda3/envs/python3/lib/python3.10/site-packages/botocore/credentials.py\" target=\"_blank\"><span style=\"color: #7f7f7f; text-decoration-color: #7f7f7f\">credentials.py</span></a><span style=\"color: #7f7f7f; text-decoration-color: #7f7f7f\">:</span><a href=\"file:///home/ec2-user/anaconda3/envs/python3/lib/python3.10/site-packages/botocore/credentials.py#1075\" target=\"_blank\"><span style=\"color: #7f7f7f; text-decoration-color: #7f7f7f\">1075</span></a>\n",
       "<span style=\"color: #7fbfbf; text-decoration-color: #7fbfbf\">                    </span>         BaseNotebookInstanceEc2InstanceRole                                <span style=\"color: #7f7f7f; text-decoration-color: #7f7f7f\">                   </span>\n",
       "</pre>\n"
      ],
      "text/plain": [
       "\u001b[2;36m[02/23/25 01:18:55]\u001b[0m\u001b[2;36m \u001b[0m\u001b[1;38;2;0;105;255mINFO    \u001b[0m Found credentials from IAM Role:                                   \u001b]8;id=824729;file:///home/ec2-user/anaconda3/envs/python3/lib/python3.10/site-packages/botocore/credentials.py\u001b\\\u001b[2mcredentials.py\u001b[0m\u001b]8;;\u001b\\\u001b[2m:\u001b[0m\u001b]8;id=120509;file:///home/ec2-user/anaconda3/envs/python3/lib/python3.10/site-packages/botocore/credentials.py#1075\u001b\\\u001b[2m1075\u001b[0m\u001b]8;;\u001b\\\n",
       "\u001b[2;36m                    \u001b[0m         BaseNotebookInstanceEc2InstanceRole                                \u001b[2m                   \u001b[0m\n"
      ]
     },
     "metadata": {},
     "output_type": "display_data"
    },
    {
     "data": {
      "text/html": [
       "<pre style=\"white-space:pre;overflow-x:auto;line-height:normal;font-family:Menlo,'DejaVu Sans Mono',consolas,'Courier New',monospace\"><span style=\"color: #7fbfbf; text-decoration-color: #7fbfbf\">                    </span><span style=\"color: #0069ff; text-decoration-color: #0069ff; font-weight: bold\">INFO    </span> Creating model with name: sagemaker-jumpstart-<span style=\"color: #008080; text-decoration-color: #008080; font-weight: bold\">2025</span>-02-23-01-18-55-923  <a href=\"file:///home/ec2-user/anaconda3/envs/python3/lib/python3.10/site-packages/sagemaker/session.py\" target=\"_blank\"><span style=\"color: #7f7f7f; text-decoration-color: #7f7f7f\">session.py</span></a><span style=\"color: #7f7f7f; text-decoration-color: #7f7f7f\">:</span><a href=\"file:///home/ec2-user/anaconda3/envs/python3/lib/python3.10/site-packages/sagemaker/session.py#4094\" target=\"_blank\"><span style=\"color: #7f7f7f; text-decoration-color: #7f7f7f\">4094</span></a>\n",
       "</pre>\n"
      ],
      "text/plain": [
       "\u001b[2;36m                   \u001b[0m\u001b[2;36m \u001b[0m\u001b[1;38;2;0;105;255mINFO    \u001b[0m Creating model with name: sagemaker-jumpstart-\u001b[1;36m2025\u001b[0m-02-23-01-18-55-923  \u001b]8;id=155736;file:///home/ec2-user/anaconda3/envs/python3/lib/python3.10/site-packages/sagemaker/session.py\u001b\\\u001b[2msession.py\u001b[0m\u001b]8;;\u001b\\\u001b[2m:\u001b[0m\u001b]8;id=584067;file:///home/ec2-user/anaconda3/envs/python3/lib/python3.10/site-packages/sagemaker/session.py#4094\u001b\\\u001b[2m4094\u001b[0m\u001b]8;;\u001b\\\n"
      ]
     },
     "metadata": {},
     "output_type": "display_data"
    },
    {
     "data": {
      "text/html": [
       "<pre style=\"white-space:pre;overflow-x:auto;line-height:normal;font-family:Menlo,'DejaVu Sans Mono',consolas,'Courier New',monospace\"><span style=\"color: #7fbfbf; text-decoration-color: #7fbfbf\">[02/23/25 01:18:56] </span><span style=\"color: #0069ff; text-decoration-color: #0069ff; font-weight: bold\">INFO    </span> Creating endpoint-config with name                                     <a href=\"file:///home/ec2-user/anaconda3/envs/python3/lib/python3.10/site-packages/sagemaker/session.py\" target=\"_blank\"><span style=\"color: #7f7f7f; text-decoration-color: #7f7f7f\">session.py</span></a><span style=\"color: #7f7f7f; text-decoration-color: #7f7f7f\">:</span><a href=\"file:///home/ec2-user/anaconda3/envs/python3/lib/python3.10/site-packages/sagemaker/session.py#5889\" target=\"_blank\"><span style=\"color: #7f7f7f; text-decoration-color: #7f7f7f\">5889</span></a>\n",
       "<span style=\"color: #7fbfbf; text-decoration-color: #7fbfbf\">                    </span>         sagemaker-jumpstart-<span style=\"color: #008080; text-decoration-color: #008080; font-weight: bold\">2025</span>-02-23-01-18-56-640                            <span style=\"color: #7f7f7f; text-decoration-color: #7f7f7f\">               </span>\n",
       "</pre>\n"
      ],
      "text/plain": [
       "\u001b[2;36m[02/23/25 01:18:56]\u001b[0m\u001b[2;36m \u001b[0m\u001b[1;38;2;0;105;255mINFO    \u001b[0m Creating endpoint-config with name                                     \u001b]8;id=433347;file:///home/ec2-user/anaconda3/envs/python3/lib/python3.10/site-packages/sagemaker/session.py\u001b\\\u001b[2msession.py\u001b[0m\u001b]8;;\u001b\\\u001b[2m:\u001b[0m\u001b]8;id=487316;file:///home/ec2-user/anaconda3/envs/python3/lib/python3.10/site-packages/sagemaker/session.py#5889\u001b\\\u001b[2m5889\u001b[0m\u001b]8;;\u001b\\\n",
       "\u001b[2;36m                    \u001b[0m         sagemaker-jumpstart-\u001b[1;36m2025\u001b[0m-02-23-01-18-56-640                            \u001b[2m               \u001b[0m\n"
      ]
     },
     "metadata": {},
     "output_type": "display_data"
    },
    {
     "data": {
      "text/html": [
       "<pre style=\"white-space:pre;overflow-x:auto;line-height:normal;font-family:Menlo,'DejaVu Sans Mono',consolas,'Courier New',monospace\"><span style=\"color: #7fbfbf; text-decoration-color: #7fbfbf\">                    </span><span style=\"color: #0069ff; text-decoration-color: #0069ff; font-weight: bold\">INFO    </span> Creating endpoint with name                                            <a href=\"file:///home/ec2-user/anaconda3/envs/python3/lib/python3.10/site-packages/sagemaker/session.py\" target=\"_blank\"><span style=\"color: #7f7f7f; text-decoration-color: #7f7f7f\">session.py</span></a><span style=\"color: #7f7f7f; text-decoration-color: #7f7f7f\">:</span><a href=\"file:///home/ec2-user/anaconda3/envs/python3/lib/python3.10/site-packages/sagemaker/session.py#4711\" target=\"_blank\"><span style=\"color: #7f7f7f; text-decoration-color: #7f7f7f\">4711</span></a>\n",
       "<span style=\"color: #7fbfbf; text-decoration-color: #7fbfbf\">                    </span>         sagemaker-jumpstart-<span style=\"color: #008080; text-decoration-color: #008080; font-weight: bold\">2025</span>-02-23-01-18-56-640                            <span style=\"color: #7f7f7f; text-decoration-color: #7f7f7f\">               </span>\n",
       "</pre>\n"
      ],
      "text/plain": [
       "\u001b[2;36m                   \u001b[0m\u001b[2;36m \u001b[0m\u001b[1;38;2;0;105;255mINFO    \u001b[0m Creating endpoint with name                                            \u001b]8;id=735108;file:///home/ec2-user/anaconda3/envs/python3/lib/python3.10/site-packages/sagemaker/session.py\u001b\\\u001b[2msession.py\u001b[0m\u001b]8;;\u001b\\\u001b[2m:\u001b[0m\u001b]8;id=369216;file:///home/ec2-user/anaconda3/envs/python3/lib/python3.10/site-packages/sagemaker/session.py#4711\u001b\\\u001b[2m4711\u001b[0m\u001b]8;;\u001b\\\n",
       "\u001b[2;36m                    \u001b[0m         sagemaker-jumpstart-\u001b[1;36m2025\u001b[0m-02-23-01-18-56-640                            \u001b[2m               \u001b[0m\n"
      ]
     },
     "metadata": {},
     "output_type": "display_data"
    },
    {
     "name": "stdout",
     "output_type": "stream",
     "text": [
      "---------------!"
     ]
    }
   ],
   "source": [
    "predictor = model.deploy(\n",
    "    initial_instance_count=1, \n",
    "    instance_type='ml.g5.48xlarge', # you can also change to p4d.24xlarge\n",
    "    serializer=JSONSerializer(), \n",
    "    deserializer=JSONDeserializer()\n",
    ")"
   ]
  },
  {
   "cell_type": "markdown",
   "id": "98b803a7-dbce-43d3-bae3-ad44f439a50b",
   "metadata": {},
   "source": [
    "OpenAI API chat completion interface"
   ]
  },
  {
   "cell_type": "code",
   "execution_count": 25,
   "id": "05da592f-e09b-4071-8d6d-f9063112f576",
   "metadata": {
    "tags": []
   },
   "outputs": [
    {
     "name": "stdout",
     "output_type": "stream",
     "text": [
      "<think>\n",
      "Okay, so I need to list three countries and their capitals. Hmm, let's see. I'm not super familiar with all the countries and capitals, but I can try to think of some that I know. \n",
      "\n",
      "First, I'll start with the country I live in, which is the United States. I'm pretty sure the capital is Washington, D.C. Yeah, that's right. So that's one.\n",
      "\n",
      "Next, I think about France. I remember learning that Paris is the capital. That seems correct. So France and Paris would be the second pair.\n",
      "\n",
      "Now, for the third one, I'm a bit unsure. I know that Japan is a country, and I think the capital is Tokyo. I've heard that before, so I'll go with that. So Japan and Tokyo.\n",
      "\n",
      "Wait, let me double-check if I'm mixing up any capitals. Sometimes I confuse Tokyo with another city, but I think it's correct. Yeah, Tokyo is definitely the capital\n"
     ]
    }
   ],
   "source": [
    "response = predictor.predict({\n",
    "    'model':'mymodel',\n",
    "    'messages':[\n",
    "        {\"role\": \"user\", \"content\": \"List 3 countries and their capitals.\"},\n",
    "    ],\n",
    "    'temperature':0,\n",
    "    'max_tokens':200,\n",
    "    'top_logprobs': 2,\n",
    "    'logprobs': True\n",
    "})\n",
    "print(response['choices'][0]['message']['content'])"
   ]
  },
  {
   "cell_type": "markdown",
   "id": "865e285c-b98c-4e23-87dd-739898c32dec",
   "metadata": {},
   "source": [
    "#### Invoke endpoint with boto3\n",
    "Note that you can also invoke the endpoint with boto3. If you have an existing endpoint, you don't need to recreate the `predictor` and can follow below example to invoke the endpoint with an endpoint name."
   ]
  },
  {
   "cell_type": "code",
   "execution_count": 32,
   "id": "6817557b-8204-4171-bcaa-54395f8b8868",
   "metadata": {},
   "outputs": [
    {
     "name": "stdout",
     "output_type": "stream",
     "text": [
      "<think>\n",
      "Okay, so I need to list three countries and their capitals. Hmm, let's see. I'm not super familiar with all the countries and capitals, but I can try to think of some that I know. \n",
      "\n",
      "First, I'll start with the country I live in, which is the United States. I'm pretty sure the capital is Washington, D.C. Yeah, that's right. So that's one.\n",
      "\n",
      "Next, I think about France. I remember learning that Paris is the capital. That seems correct. So France and Paris would be the second pair.\n",
      "\n",
      "Now, for the third one, I'm a bit unsure. I know that Japan is a country, and I think the capital is Tokyo. I've heard that before, so I'll go with that. So Japan and Tokyo.\n",
      "\n",
      "Wait, let me double-check if I'm mixing up any capitals. Sometimes I confuse Tokyo with another city, but I think it's correct. Yeah, Tokyo is definitely the capital of Japan. Okay, so I think I have three correct pairs: USA and Washington, D.C., France and Paris, and Japan and Tokyo.\n",
      "</think>\n",
      "\n",
      "Here are three countries and their capitals:\n",
      "\n",
      "1. **United States** - Washington, D.C.\n",
      "2. **France** - Paris\n",
      "3. **Japan** - Tokyo\n"
     ]
    }
   ],
   "source": [
    "import boto3\n",
    "import json\n",
    "sagemaker_runtime = boto3.client('sagemaker-runtime')\n",
    "endpoint_name = predictor.endpoint_name # you can manually set the endpoint name with an existing endpoint\n",
    "\n",
    "prompt = {\n",
    "    'model':'mymodel',\n",
    "    'messages':[\n",
    "        {\"role\": \"user\", \"content\": \"List 3 countries and their capitals.\"},\n",
    "    ],\n",
    "    'temperature':0,\n",
    "    'max_tokens':512,\n",
    "}\n",
    "response = sagemaker_runtime.invoke_endpoint(\n",
    "    EndpointName=endpoint_name,\n",
    "    ContentType=\"application/json\",\n",
    "    Body=json.dumps(prompt)\n",
    ")\n",
    "response_dict = json.loads(response['Body'].read().decode(\"utf-8\"))\n",
    "response_content = response_dict['choices'][0]['message']['content']\n",
    "print(response_content)"
   ]
  },
  {
   "cell_type": "markdown",
   "id": "015339db-9d8c-481b-bca9-5f7955991a5b",
   "metadata": {},
   "source": [
    "#### Streaming response from the endpoint\n",
    "Additionally, SGLang allows you to invoke the endpoint and receive streaming response. Below is an example of how to interact with the endpoint with streaming response."
   ]
  },
  {
   "cell_type": "code",
   "execution_count": 26,
   "id": "a65f8ce7-fcf1-4276-a1ae-98dc3ef7638b",
   "metadata": {
    "tags": []
   },
   "outputs": [],
   "source": [
    "import io\n",
    "import json\n",
    "\n",
    "# Example class that processes an inference stream:\n",
    "class SmrInferenceStream:\n",
    "    \n",
    "    def __init__(self, sagemaker_runtime, endpoint_name):\n",
    "        self.sagemaker_runtime = sagemaker_runtime\n",
    "        self.endpoint_name = endpoint_name\n",
    "        # A buffered I/O stream to combine the payload parts:\n",
    "        self.buff = io.BytesIO() \n",
    "        self.read_pos = 0\n",
    "        \n",
    "    def stream_inference(self, request_body):\n",
    "        # Gets a streaming inference response \n",
    "        # from the specified model endpoint:\n",
    "        response = self.sagemaker_runtime\\\n",
    "            .invoke_endpoint_with_response_stream(\n",
    "                EndpointName=self.endpoint_name, \n",
    "                Body=json.dumps(request_body), \n",
    "                ContentType=\"application/json\"\n",
    "        )\n",
    "        # Gets the EventStream object returned by the SDK:\n",
    "        event_stream = response['Body']\n",
    "        for event in event_stream:\n",
    "            # Passes the contents of each payload part\n",
    "            # to be concatenated:\n",
    "            self._write(event['PayloadPart']['Bytes'])\n",
    "            # Iterates over lines to parse whole JSON objects:\n",
    "            for line in self._readlines():\n",
    "                line = line.decode('utf-8')[len('data: '):]\n",
    "                # print(line)\n",
    "                try:\n",
    "                    resp = json.loads(line)\n",
    "                except:\n",
    "                    continue\n",
    "                if len(line)>0 and type(resp) == dict:\n",
    "                    # if len(resp.get('choices')) == 0:\n",
    "                    #     continue\n",
    "                    part = resp.get('choices')[0]['delta']['content']\n",
    "                    \n",
    "                else:\n",
    "                    part = resp\n",
    "                # Returns parts incrementally:\n",
    "                yield part\n",
    "    \n",
    "    # Writes to the buffer to concatenate the contents of the parts:\n",
    "    def _write(self, content):\n",
    "        self.buff.seek(0, io.SEEK_END)\n",
    "        self.buff.write(content)\n",
    "\n",
    "    # The JSON objects in buffer end with '\\n'.\n",
    "    # This method reads lines to yield a series of JSON objects:\n",
    "    def _readlines(self):\n",
    "        self.buff.seek(self.read_pos)\n",
    "        for line in self.buff.readlines():\n",
    "            self.read_pos += len(line)\n",
    "            yield line[:-1]"
   ]
  },
  {
   "cell_type": "code",
   "execution_count": 27,
   "id": "40f29fdb-e4be-439c-a6e4-dc05facc6b92",
   "metadata": {
    "tags": []
   },
   "outputs": [
    {
     "data": {
      "text/html": [
       "<pre style=\"white-space:pre;overflow-x:auto;line-height:normal;font-family:Menlo,'DejaVu Sans Mono',consolas,'Courier New',monospace\"><span style=\"color: #7fbfbf; text-decoration-color: #7fbfbf\">[02/23/25 01:29:23] </span><span style=\"color: #0069ff; text-decoration-color: #0069ff; font-weight: bold\">INFO    </span> Found credentials from IAM Role:                                   <a href=\"file:///home/ec2-user/anaconda3/envs/python3/lib/python3.10/site-packages/botocore/credentials.py\" target=\"_blank\"><span style=\"color: #7f7f7f; text-decoration-color: #7f7f7f\">credentials.py</span></a><span style=\"color: #7f7f7f; text-decoration-color: #7f7f7f\">:</span><a href=\"file:///home/ec2-user/anaconda3/envs/python3/lib/python3.10/site-packages/botocore/credentials.py#1075\" target=\"_blank\"><span style=\"color: #7f7f7f; text-decoration-color: #7f7f7f\">1075</span></a>\n",
       "<span style=\"color: #7fbfbf; text-decoration-color: #7fbfbf\">                    </span>         BaseNotebookInstanceEc2InstanceRole                                <span style=\"color: #7f7f7f; text-decoration-color: #7f7f7f\">                   </span>\n",
       "</pre>\n"
      ],
      "text/plain": [
       "\u001b[2;36m[02/23/25 01:29:23]\u001b[0m\u001b[2;36m \u001b[0m\u001b[1;38;2;0;105;255mINFO    \u001b[0m Found credentials from IAM Role:                                   \u001b]8;id=915936;file:///home/ec2-user/anaconda3/envs/python3/lib/python3.10/site-packages/botocore/credentials.py\u001b\\\u001b[2mcredentials.py\u001b[0m\u001b]8;;\u001b\\\u001b[2m:\u001b[0m\u001b]8;id=89220;file:///home/ec2-user/anaconda3/envs/python3/lib/python3.10/site-packages/botocore/credentials.py#1075\u001b\\\u001b[2m1075\u001b[0m\u001b]8;;\u001b\\\n",
       "\u001b[2;36m                    \u001b[0m         BaseNotebookInstanceEc2InstanceRole                                \u001b[2m                   \u001b[0m\n"
      ]
     },
     "metadata": {},
     "output_type": "display_data"
    },
    {
     "name": "stdout",
     "output_type": "stream",
     "text": [
      "<think>\n",
      " need to list three countries and their capitals. Hmm, let's see. I'm not super familiar with all the countries and capitals, but I can try to think of some that I know. \n",
      "\n",
      "First, I'll start with the country I live in, which is the United States. I'm pretty sure the capital is Washington, D.C. Yeah, that's right. So that's one.\n",
      "\n",
      " about France. I remember learning that Paris is the capital. That seems correct. So France and Paris would be the second pair.\n",
      "\n",
      " third one, I'm a bit unsure. I know that Japan is a country, and I think the capital is Tokyo. I've heard that before, so I'll go with that. So Japan and Tokyo.\n",
      "\n",
      " let me double-check if I'm mixing up any capitals. Sometimes I confuse Tokyo with another city, but I think it's correct. Yeah, Tokyo is definitely the capital of Japan. Okay, so I think I have three correct pairs: USA and Washington, D.C., France and Paris, and Japan and Tokyo.\n",
      "</think>\n",
      "\n",
      " and their capitals:ries\n",
      "\n",
      ". **United States** - Washington, D.C.\n",
      "** - Parise\n",
      ". **Japan** - Tokyo"
     ]
    }
   ],
   "source": [
    "request_body = {\n",
    "    'model':'mymodel',\n",
    "    'messages':[\n",
    "        {\"role\": \"user\", \"content\": \"List 3 countries and their capitals.\"},\n",
    "    ],\n",
    "    'temperature':0,\n",
    "    'max_tokens':512,\n",
    "    # 'top_logprobs': 2,\n",
    "    # 'logprobs': True,\n",
    "    'stream': True,\n",
    "    'stream_options': {'include_usage': True}\n",
    "}\n",
    "\n",
    "smr_inference_stream = SmrInferenceStream(\n",
    "    sagemaker_runtime, predictor.endpoint_name)\n",
    "stream = smr_inference_stream.stream_inference(request_body)\n",
    "for part in stream:\n",
    "    print(part, end='')"
   ]
  },
  {
   "cell_type": "markdown",
   "id": "4bacb334-1383-4bab-a118-683d3328b929",
   "metadata": {},
   "source": [
    "## Cleanup\n",
    "Make sure to delete the endpoint and other artifacts that were created to avoid unnecessary cost. You can also go to SageMaker AI console to delete all the resources created in this example."
   ]
  },
  {
   "cell_type": "code",
   "execution_count": null,
   "id": "696e16ca-ebb6-4d2a-84d0-69743e74793f",
   "metadata": {
    "tags": []
   },
   "outputs": [],
   "source": [
    "predictor.delete_endpoint()"
   ]
  }
 ],
 "metadata": {
  "kernelspec": {
   "display_name": "conda_python3",
   "language": "python",
   "name": "conda_python3"
  },
  "language_info": {
   "codemirror_mode": {
    "name": "ipython",
    "version": 3
   },
   "file_extension": ".py",
   "mimetype": "text/x-python",
   "name": "python",
   "nbconvert_exporter": "python",
   "pygments_lexer": "ipython3",
   "version": "3.10.16"
  }
 },
 "nbformat": 4,
 "nbformat_minor": 5
}
