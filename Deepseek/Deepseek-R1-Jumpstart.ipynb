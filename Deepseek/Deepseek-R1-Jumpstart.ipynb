{
 "cells": [
  {
   "cell_type": "markdown",
   "id": "331cde4a-c817-4ac0-a145-f49cb166bbf8",
   "metadata": {},
   "source": [
    "# Deploy DeepSeek-R1 with Amazon SageMaker Jumpstart"
   ]
  },
  {
   "cell_type": "markdown",
   "id": "9456f156-8ed7-4895-82b4-f897bd7eafe6",
   "metadata": {},
   "source": [
    "In this notebook, We will use the ModelBuilder class to deploy DeepSeek-R1 model to SageMaker Endpoints"
   ]
  },
  {
   "cell_type": "markdown",
   "id": "d60651e7-09c8-469c-ab25-f144b3526e90",
   "metadata": {},
   "source": [
    "## Prerequisites. \n",
    "You will need access access to a ml.p5e.48xlarge\n"
   ]
  },
  {
   "cell_type": "code",
   "execution_count": null,
   "id": "3718ec59-7622-4921-b44f-3e14b359ef82",
   "metadata": {},
   "outputs": [],
   "source": [
    "#Install Sagemaker python SDK\n",
    "!pip install --force-reinstall --no-cache-dir sagemaker==2.235.2"
   ]
  },
  {
   "cell_type": "code",
   "execution_count": null,
   "id": "bcbcd56b-becd-4431-beb6-57a8a13b6cf7",
   "metadata": {},
   "outputs": [],
   "source": [
    "#Import required libraries and initialize session\n",
    "from sagemaker.serve.builder.model_builder import ModelBuilder \n",
    "from sagemaker.serve.builder.schema_builder import SchemaBuilder \n",
    "from sagemaker.jumpstart.model import ModelAccessConfig \n",
    "from sagemaker.session import Session \n",
    "import logging \n",
    "\n",
    "sagemaker_session = Session()\n",
    " \n",
    "artifacts_bucket_name = sagemaker_session.default_bucket() \n",
    "execution_role_arn = sagemaker_session.get_caller_identity_arn()\n",
    " \n"
   ]
  },
  {
   "cell_type": "code",
   "execution_count": null,
   "id": "de3ea3b3-c35d-45b0-adcc-e23005c153f6",
   "metadata": {},
   "outputs": [],
   "source": [
    "js_model_id = \"deepseek-llm-r1\"\n",
    "\n",
    "gpu_instance_type = \"ml.p5e.48xlarge\"\n",
    "\n",
    "response = \"Hello, I'm a language model, and I'm here to help you with your English.\"\n",
    "\n",
    "sample_input = {\n",
    "    \"inputs\": \"Hello, I'm a language model,\",\n",
    "    \"parameters\": {\"max_new_tokens\": 128, \"top_p\": 0.9, \"temperature\": 0.6},\n",
    "}\n",
    "\n",
    "sample_output = [{\"generated_text\": response}]\n",
    "\n",
    "schema_builder = SchemaBuilder(sample_input, sample_output)\n",
    "\n",
    "model_builder = ModelBuilder(\n",
    "    model=js_model_id,\n",
    "    schema_builder=schema_builder,\n",
    "    sagemaker_session=sagemaker_session,\n",
    "    role_arn=execution_role_arn,\n",
    "    log_level=logging.ERROR\n",
    ")\n",
    "\n",
    "model = model_builder.build()\n",
    "predictor = model.deploy(\n",
    "    model_access_configs={js_model_id: ModelAccessConfig(accept_eula=True)},\n",
    "    accept_eula=True\n",
    ")"
   ]
  },
  {
   "cell_type": "code",
   "execution_count": null,
   "id": "1edbe347-dbbf-48a6-bc36-aa59e5d5cea9",
   "metadata": {},
   "outputs": [],
   "source": [
    "payload = { \"inputs\": \"I believe the meaning of life is\", \n",
    "            \"parameters\": { \n",
    "                \"max_new_tokens\": 64, \n",
    "                \"top_p\": 0.9, \n",
    "                \"temperature\": 0.6 \n",
    "            } \n",
    "        }\n",
    "predictor.predict(payload)"
   ]
  },
  {
   "cell_type": "code",
   "execution_count": null,
   "id": "907a1ad6-d8b3-4555-b890-e8c88e49d2a4",
   "metadata": {},
   "outputs": [],
   "source": [
    "predictor.delete_model()\n",
    "predictor.delete_endpoint()"
   ]
  }
 ],
 "metadata": {
  "kernelspec": {
   "display_name": "Python 3 (ipykernel)",
   "language": "python",
   "name": "python3"
  },
  "language_info": {
   "codemirror_mode": {
    "name": "ipython",
    "version": 3
   },
   "file_extension": ".py",
   "mimetype": "text/x-python",
   "name": "python",
   "nbconvert_exporter": "python",
   "pygments_lexer": "ipython3",
   "version": "3.11.11"
  }
 },
 "nbformat": 4,
 "nbformat_minor": 5
}
