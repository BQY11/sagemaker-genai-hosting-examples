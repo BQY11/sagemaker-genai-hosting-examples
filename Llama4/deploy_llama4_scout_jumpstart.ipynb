{
 "cells": [
  {
   "cell_type": "markdown",
   "id": "331cde4a-c817-4ac0-a145-f49cb166bbf8",
   "metadata": {},
   "source": [
    "# Deploy Llama 4 with Amazon SageMaker Jumpstart"
   ]
  },
  {
   "cell_type": "markdown",
   "id": "9456f156-8ed7-4895-82b4-f897bd7eafe6",
   "metadata": {},
   "source": [
    "In this notebook, We will use the ModelBuilder class to deploy [Llama 4](https://ai.meta.com/blog/llama-4-multimodal-intelligence/) model to SageMaker Endpoints.\n",
    "\n",
    "[HuggingFace Model Card](https://huggingface.co/meta-llama/Llama-4-Scout-17B-16E-Instruct)"
   ]
  },
  {
   "cell_type": "markdown",
   "id": "d60651e7-09c8-469c-ab25-f144b3526e90",
   "metadata": {},
   "source": [
    "## Prerequisites. \n",
    "You will need access access to a **ml.p4de.24xlarge** or **ml.g6e.48xlarge**\n"
   ]
  },
  {
   "cell_type": "code",
   "execution_count": null,
   "id": "3718ec59-7622-4921-b44f-3e14b359ef82",
   "metadata": {},
   "outputs": [],
   "source": [
    "%pip install --upgrade --quiet --no-warn-conflicts sagemaker"
   ]
  },
  {
   "cell_type": "code",
   "execution_count": null,
   "id": "a4e1ffc2-0c1b-4da5-bae3-68874bcd0364",
   "metadata": {},
   "outputs": [],
   "source": [
    "import json\n",
    "import sagemaker\n",
    "import boto3\n",
    "\n",
    "role = sagemaker.get_execution_role()  # execution role for the endpoint\n",
    "sess = sagemaker.session.Session()  # sagemaker session for interacting with different AWS APIs\n",
    "bucket = sess.default_bucket()  # bucket to house artifacts\n",
    "region = sess._region_name  # region name of the current SageMaker Studio environment\n",
    "\n",
    "sm_client = boto3.client(\"sagemaker\")  # client to intreract with SageMaker\n",
    "smr_client = boto3.client(\"sagemaker-runtime\")  # client to intreract with SageMaker Endpoints\n",
    "s3_client = boto3.client(\"s3\")\n",
    "\n",
    "print(f\"sagemaker role arn: {role}\")\n",
    "print(f\"sagemaker bucket: {sess.default_bucket()}\")\n",
    "print(f\"sagemaker session region: {sess.boto_region_name}\")\n",
    "print(f\"sagemaker version: {sagemaker.__version__}\")"
   ]
  },
  {
   "cell_type": "markdown",
   "id": "2d21f36e-0d42-4b70-97a7-e6a9f3e16902",
   "metadata": {},
   "source": [
    "## Deploy Llama4-Scount-17B-16E-Instruct from Amazon SageMaker JumpStart"
   ]
  },
  {
   "cell_type": "code",
   "execution_count": null,
   "id": "de3ea3b3-c35d-45b0-adcc-e23005c153f6",
   "metadata": {},
   "outputs": [],
   "source": [
    "from sagemaker.jumpstart.model import JumpStartModel\n",
    "\n",
    "model_id, model_version = \"meta-vlm-llama-4-scout-17b-16e-instruct\", \"1.0.0\"\n",
    "\n",
    "model_name = endpoint_name = sagemaker.utils.name_from_base(\"llama-4-scout-17b\")\n",
    "\n",
    "jumpstart_model = JumpStartModel(model_id=model_id, \n",
    "                                 model_version=model_version, \n",
    "                                 name=model_name)\n",
    "\n",
    "jumpstart_model.deploy(\n",
    "    accept_eula=False,  # Please accept Meta Llama4 EULA by changing this to True\n",
    "    instance_type=\"ml.p4de.24xlarge\",\n",
    "    initial_instance_count=1,\n",
    "    container_startup_health_check_timeout=1800,\n",
    "    endpoint_name=endpoint_name,\n",
    ")"
   ]
  },
  {
   "cell_type": "markdown",
   "id": "799ff070-d5a2-42e6-92d4-b2196cb445e1",
   "metadata": {},
   "source": [
    "## Inference examples"
   ]
  },
  {
   "cell_type": "code",
   "execution_count": null,
   "id": "3a3bd75a-161b-466e-be57-4b28cc8eec97",
   "metadata": {},
   "outputs": [],
   "source": [
    "import boto3\n",
    "from PIL import Image\n",
    "import requests\n",
    "from io import BytesIO\n",
    " \n",
    "runtime = boto3.client('sagemaker-runtime')\n",
    "\n",
    "def get_image_urls(payload):\n",
    "    image_urls = []\n",
    "    payload = json.loads(payload)\n",
    "    for msg in payload[\"messages\"]:\n",
    "        if type(msg[\"content\"]) == list:\n",
    "            for ms in msg[\"content\"]:\n",
    "                typ = ms[\"type\"]\n",
    "                if typ == \"image_url\":\n",
    "                    image_url = ms[\"image_url\"][\"url\"]\n",
    "                    image_urls.append(image_url)\n",
    "    return image_urls\n",
    "    \n",
    "def display_images(image_paths):\n",
    "    \"\"\"\n",
    "    Displays multiple images side by side using PIL.\n",
    "\n",
    "    Args:\n",
    "        image_paths: A list of file paths to the images.\n",
    "    \"\"\"\n",
    "    responses = [ requests.get(url) for url in image_paths]\n",
    "    images = [Image.open(BytesIO(response.content)) for response in responses]\n",
    "    widths, heights = zip(*(i.size for i in images))\n",
    "\n",
    "    total_width = sum(widths)\n",
    "    max_height = max(heights)\n",
    "\n",
    "    new_image = Image.new('RGB', (total_width, max_height))\n",
    "\n",
    "    x_offset = 0\n",
    "    for image in images:\n",
    "        new_image.paste(image, (x_offset, 0))\n",
    "        x_offset += image.size[0]\n",
    "\n",
    "    new_image.show()\n",
    "    \n",
    "def predict(payload, endpoint_name, imgs=False):\n",
    "    response = runtime.invoke_endpoint(EndpointName=endpoint_name, \n",
    "                                       ContentType='application/json', \n",
    "                                       Body=payload)\n",
    "    if imgs:\n",
    "        image_urls = get_image_urls(payload)\n",
    "        display_images(image_urls)\n",
    "    result = json.loads(response['Body'].read().decode())\n",
    "    return result[\"choices\"][0][\"message\"][\"content\"]"
   ]
  },
  {
   "cell_type": "markdown",
   "id": "b2a43f8c-f9e7-4440-8cb6-a5f0d9036b32",
   "metadata": {},
   "source": [
    "### Simple text generation"
   ]
  },
  {
   "cell_type": "code",
   "execution_count": null,
   "id": "57a3a6ab-69d0-43a6-a1cf-c4b6600c007a",
   "metadata": {},
   "outputs": [],
   "source": [
    "messages = [\n",
    "    {\"role\": \"user\", \"content\": \"Describe Amazon SageMaker AI service\"},\n",
    "]\n",
    "\n",
    "payload = {\n",
    "    \"messages\": messages\n",
    "}\n",
    "\n",
    "res = predict(json.dumps(payload), endpoint_name)\n",
    "print(res)"
   ]
  },
  {
   "cell_type": "markdown",
   "id": "bb8e6c39-ee34-4b1b-8a31-85a4bfabadd9",
   "metadata": {},
   "source": [
    "### Multilingual"
   ]
  },
  {
   "cell_type": "code",
   "execution_count": null,
   "id": "40a225cb-19dd-4b60-b439-413c683a028e",
   "metadata": {},
   "outputs": [],
   "source": [
    "messages = [\n",
    "    {\"role\": \"user\", \"content\": \"Write a haiku about springtime, but in Tagalog\"},\n",
    "]\n",
    "\n",
    "payload = {\n",
    "    \"messages\": messages\n",
    "}\n",
    "\n",
    "res = predict(json.dumps(payload), endpoint_name)\n",
    "print(res)"
   ]
  },
  {
   "cell_type": "markdown",
   "id": "55e90321-437b-48ba-928d-8d5352d1f899",
   "metadata": {},
   "source": [
    "### Multimodal"
   ]
  },
  {
   "cell_type": "markdown",
   "id": "3c2999ec-1e1b-4c1d-b20c-ad045924086d",
   "metadata": {},
   "source": [
    "Let's ask the model to describe this image:\n",
    "\n",
    "<img src=\"./img/rabbit.jpg\" style=\"width:400px;\"/>"
   ]
  },
  {
   "cell_type": "code",
   "execution_count": null,
   "id": "390b224b-8e64-4316-97ec-127f3faad045",
   "metadata": {},
   "outputs": [],
   "source": [
    "import base64\n",
    "\n",
    "def image_to_base64_data_uri(file_path):\n",
    "    with open(file_path, \"rb\") as img_file:\n",
    "        base64_data = base64.b64encode(img_file.read()).decode('utf-8')\n",
    "        return f\"{base64_data}\""
   ]
  },
  {
   "cell_type": "code",
   "execution_count": null,
   "id": "c0c08f2b-1ab7-4196-ab38-8367e3fc5e6c",
   "metadata": {},
   "outputs": [],
   "source": [
    "file_path = './img/rabbit.jpg'\n",
    "data_uri = image_to_base64_data_uri(file_path)\n",
    "\n",
    "data = {\n",
    "        \"messages\": [\n",
    "            {\n",
    "                \"role\": \"system\",\n",
    "                \"content\": \"You are a helpful assistant\",\n",
    "            },\n",
    "            {\n",
    "                \"role\": \"user\",\n",
    "                \"content\": [\n",
    "                    {\n",
    "                        \"type\": \"text\",\n",
    "                        \"text\": \"Describe the image in detail please.\",\n",
    "                    },\n",
    "                    {\n",
    "                        \"type\": \"image_url\", \n",
    "                        \"image_url\": {\"url\": f\"data:image/jpg;base64,{data_uri}\"}\n",
    "                    },\n",
    "                ],\n",
    "            },\n",
    "        ],\n",
    "        \"temperature\": 0.6,\n",
    "        \"top_p\": 0.9,\n",
    "    }\n",
    "payload = json.dumps(data)\n",
    "print(predict(payload, endpoint_name))"
   ]
  },
  {
   "cell_type": "markdown",
   "id": "af1af70a-a6dc-4551-b3bc-87d537749310",
   "metadata": {},
   "source": [
    "Another image understanding example\n",
    "\n",
    "<img src=\"./img/trip.png\" style=\"width:600px;\"/>"
   ]
  },
  {
   "cell_type": "code",
   "execution_count": null,
   "id": "f885206c-0e46-4717-9368-4f6fa3d755a3",
   "metadata": {},
   "outputs": [],
   "source": [
    "file_path = './img/trip.png'\n",
    "data_uri = image_to_base64_data_uri(file_path)\n",
    "\n",
    "data = {\n",
    "        \"messages\": [\n",
    "            {\n",
    "                \"role\": \"system\",\n",
    "                \"content\": \"You are a helpful assistant\",\n",
    "            },\n",
    "            {\n",
    "                \"role\": \"user\",\n",
    "                \"content\": [\n",
    "                    {\n",
    "                        \"type\": \"text\",\n",
    "                        \"text\": \"Describe the location and season in detail please.\",\n",
    "                    },\n",
    "                    {\n",
    "                        \"type\": \"image_url\", \n",
    "                        \"image_url\": {\"url\": f\"data:image/jpg;base64,{data_uri}\"}\n",
    "                    },\n",
    "                ],\n",
    "            },\n",
    "        ],\n",
    "        \"temperature\": 0.6,\n",
    "        \"top_p\": 0.9,\n",
    "    }\n",
    "payload = json.dumps(data)\n",
    "print(predict(payload, endpoint_name, imgs=False))"
   ]
  },
  {
   "cell_type": "markdown",
   "id": "3ed43c17-59fa-4034-a3ab-0a973b3adb9d",
   "metadata": {},
   "source": [
    "## Cleanup"
   ]
  },
  {
   "cell_type": "code",
   "execution_count": null,
   "id": "907a1ad6-d8b3-4555-b890-e8c88e49d2a4",
   "metadata": {},
   "outputs": [],
   "source": [
    "sess.delete_endpoint(endpoint_name)\n",
    "sess.delete_endpoint_config(endpoint_name)\n",
    "sess.delete_model(model_name)"
   ]
  }
 ],
 "metadata": {
  "kernelspec": {
   "display_name": "Python 3 (ipykernel)",
   "language": "python",
   "name": "python3"
  },
  "language_info": {
   "codemirror_mode": {
    "name": "ipython",
    "version": 3
   },
   "file_extension": ".py",
   "mimetype": "text/x-python",
   "name": "python",
   "nbconvert_exporter": "python",
   "pygments_lexer": "ipython3",
   "version": "3.11.11"
  }
 },
 "nbformat": 4,
 "nbformat_minor": 5
}
